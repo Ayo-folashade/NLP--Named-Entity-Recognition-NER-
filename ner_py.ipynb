{
  "cells": [
    {
      "cell_type": "code",
      "source": [
        "!pip install tensorflow\n",
        "\n",
        "import pandas as pd\n",
        "import numpy as np\n",
        "import tensorflow as tf\n",
        "\n",
        "# Load the ner dataset from the CSV file\n",
        "df = pd.read_csv('ner_dataset.csv', encoding='latin1', error_bad_lines=False)\n",
        "df = df.fillna(method=\"ffill\")\n",
        "\n",
        "# Preprocess the data to split the text into sentences and annotate the named entities\n",
        "class SentenceGetter(object):\n",
        "    \n",
        "    def __init__(self, data):\n",
        "        self.n_sent = 1\n",
        "        self.data = data\n",
        "        self.empty = False\n",
        "        agg_func = lambda s: [(w, p, t) for w, p, t in zip(s['Word'].values.tolist(),\n",
        "                                                           s['POS'].values.tolist(),\n",
        "                                                           s['Tag'].values.tolist())]\n",
        "        self.grouped = self.data.groupby('Sentence #').apply(agg_func)\n",
        "        self.sentences = [s for s in self.grouped]\n",
        "\n",
        "getter = SentenceGetter(df)\n",
        "sentences = getter.sentences\n",
        "\n",
        "\n"
      ],
      "metadata": {
        "id": "F--t1ga8VmSB"
      },
      "execution_count": null,
      "outputs": []
    },
    {
      "cell_type": "code",
      "source": [
        "# Prepare the data for training by converting the text and labeled entities into numerical representations\n",
        "words = list(set(df['Word'].values))\n",
        "words.append(\"ENDPAD\")\n",
        "n_words = len(words)\n",
        "\n",
        "tags = list(set(df['Tag'].values))\n",
        "n_tags = len(tags)\n",
        "\n",
        "word2idx = {}\n",
        "for sentence in sentences:\n",
        "    for word in sentence:\n",
        "        if word[0] not in word2idx:\n",
        "            word2idx[word[0]] = len(word2idx)\n",
        "\n",
        "tag2idx = {}\n",
        "for sentence in sentences:\n",
        "    for word in sentence:\n",
        "        if word[2] not in tag2idx:\n",
        "            tag2idx[word[2]] = len(tag2idx)\n",
        "\n",
        "\n",
        "# Define and train your neural network\n",
        "from tensorflow.keras.preprocessing.sequence import pad_sequences\n",
        "from tensorflow.keras.utils import to_categorical\n",
        "from sklearn.model_selection import train_test_split\n",
        "\n",
        "max_len = 75\n",
        "X = [[word2idx[w[0]] for w in s] for s in sentences]\n",
        "X = pad_sequences(maxlen=max_len, sequences=X, padding=\"post\", value=n_words-1)\n",
        "\n",
        "# Convert tags to indices\n",
        "y = [[tag2idx[w[2]] for w in s] for s in sentences]\n",
        "\n",
        "# Pad sequences\n",
        "y = pad_sequences(maxlen=max_len, sequences=y, padding=\"post\", value=tag2idx[\"O\"])\n",
        "\n",
        "# Convert indices to one-hot encoding\n",
        "y = [to_categorical(i, num_classes=n_tags) for i in y]\n",
        "\n",
        "# Split data into training and testing sets\n",
        "X_tr, X_te, y_tr, y_te = train_test_split(X, y, test_size=0.2, random_state=42)"
      ],
      "metadata": {
        "id": "fGDxJ0FVYW1n"
      },
      "execution_count": 7,
      "outputs": []
    },
    {
      "cell_type": "code",
      "source": [
        "from tensorflow.keras.models import Sequential\n",
        "from tensorflow.keras.layers import LSTM, Embedding, Dense\n",
        "from tensorflow.keras.optimizers import Adam\n",
        "\n",
        "# Define the model architecture\n",
        "model = Sequential()\n",
        "model.add(Embedding(input_dim=n_words, output_dim=50, input_length=max_len))\n",
        "model.add(LSTM(units=100, return_sequences=True, recurrent_dropout=0.1))\n",
        "model.add(Dense(n_tags, activation=\"softmax\"))\n",
        "\n",
        "# Compile the model\n",
        "model.compile(optimizer=Adam(lr=0.01), loss=\"categorical_crossentropy\", metrics=[\"accuracy\"])\n",
        "\n",
        "# Train the model\n",
        "history = model.fit(X_tr, np.array(y_tr), batch_size=32, epochs=5, validation_split=0.1, verbose=1)\n",
        "\n",
        "# Evaluate the model on the test set\n",
        "score = model.evaluate(X_te, np.array(y_te), verbose=1)\n",
        "print(f\"Test loss: {score[0]} / Test accuracy: {score[1]}\")\n"
      ],
      "metadata": {
        "colab": {
          "base_uri": "https://localhost:8080/"
        },
        "id": "LW8N4JeoaLO6",
        "outputId": "11652906-a66e-48c1-ec7d-61f89b19c6f7"
      },
      "execution_count": 8,
      "outputs": [
        {
          "output_type": "stream",
          "name": "stderr",
          "text": [
            "WARNING:absl:`lr` is deprecated, please use `learning_rate` instead, or use the legacy optimizer, e.g.,tf.keras.optimizers.legacy.Adam.\n"
          ]
        },
        {
          "output_type": "stream",
          "name": "stdout",
          "text": [
            "Epoch 1/5\n",
            "1080/1080 [==============================] - 198s 179ms/step - loss: 0.1778 - accuracy: 0.9647 - val_loss: 0.0804 - val_accuracy: 0.9778\n",
            "Epoch 2/5\n",
            "1080/1080 [==============================] - 191s 177ms/step - loss: 0.0523 - accuracy: 0.9858 - val_loss: 0.0450 - val_accuracy: 0.9872\n",
            "Epoch 3/5\n",
            "1080/1080 [==============================] - 193s 179ms/step - loss: 0.0342 - accuracy: 0.9899 - val_loss: 0.0400 - val_accuracy: 0.9879\n",
            "Epoch 4/5\n",
            "1080/1080 [==============================] - 198s 183ms/step - loss: 0.0282 - accuracy: 0.9911 - val_loss: 0.0389 - val_accuracy: 0.9882\n",
            "Epoch 5/5\n",
            "1080/1080 [==============================] - 195s 181ms/step - loss: 0.0248 - accuracy: 0.9919 - val_loss: 0.0398 - val_accuracy: 0.9881\n",
            "300/300 [==============================] - 9s 31ms/step - loss: 0.0393 - accuracy: 0.9884\n",
            "Test loss: 0.03930531442165375 / Test accuracy: 0.9884334206581116\n"
          ]
        }
      ]
    },
    {
      "cell_type": "code",
      "source": [
        "import matplotlib.pyplot as plt\n",
        "\n",
        "# Plot training & validation accuracy values\n",
        "plt.plot(history.history['accuracy'])\n",
        "plt.plot(history.history['val_accuracy'])\n",
        "plt.title('Model accuracy')\n",
        "plt.ylabel('Accuracy')\n",
        "plt.xlabel('Epoch')\n",
        "plt.legend(['Train', 'Val'], loc='upper left')\n",
        "plt.show()\n",
        "\n",
        "# Plot training & validation loss values\n",
        "plt.plot(history.history['loss'])\n",
        "plt.plot(history.history['val_loss'])\n",
        "plt.title('Model loss')\n",
        "plt.ylabel('Loss')\n",
        "plt.xlabel('Epoch')\n",
        "plt.legend(['Train', 'Val'], loc='upper right')\n",
        "plt.show()\n"
      ],
      "metadata": {
        "colab": {
          "base_uri": "https://localhost:8080/",
          "height": 573
        },
        "id": "DLXR9PHUY9J8",
        "outputId": "ddff5796-4692-4fd8-e73d-dfce35bfcd28"
      },
      "execution_count": 9,
      "outputs": [
        {
          "output_type": "display_data",
          "data": {
            "text/plain": [
              "<Figure size 432x288 with 1 Axes>"
            ],
            "image/png": "[encoded data removed]"
          },
          "metadata": {
            "needs_background": "light"
          }
        },
        {
          "output_type": "display_data",
          "data": {
            "text/plain": [
              "<Figure size 432x288 with 1 Axes>"
            ],
            "image/png": "[encoded data removed]"
          },
          "metadata": {
            "needs_background": "light"
          }
        }
      ]
    }
  ],
  "metadata": {
    "colab": {
      "provenance": [],
      "authorship_tag": "ABX9TyMMtcGtf7WJNwPPg2GvxFoM"
    },
    "kernelspec": {
      "display_name": "Python 3",
      "name": "python3"
    },
    "language_info": {
      "name": "python"
    }
  },
  "nbformat": 4,
  "nbformat_minor": 0
}